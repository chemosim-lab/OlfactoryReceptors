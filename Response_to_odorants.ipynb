{
 "cells": [
  {
   "cell_type": "markdown",
   "metadata": {},
   "source": [
    "# Prediction of olfactory receptor (OR) responses to odorants\n",
    "\n",
    "This notebook trains `Random Forest` classification models to predict the response of human and mouse ORs to four odorants.   \n",
    "This is done in four steps:  \n",
    "1. load & transform training data;\n",
    "2. train 5 independent models with 5 subsets of residues, and compare their predictivity with a non-predictive control model;\n",
    "3. build a final model with the best residue subset above, then predict and rank new ORs by their probability to respond to the odorants;\n",
    "4. evaluate the prediction with *in vitro* data.\n",
    "\n",
    "The training data are **mostly** from the *in vitro* assays in the following publications:\n",
    "[Saito et al. Sci Signal (2009) 2:ra9](https://stke.sciencemag.org/content/2/60/ra9), \n",
    "[Mainland et al. Nat Neurosci (2014) 17:114–120](https://www.nature.com/articles/nn.3598#citeas), \n",
    "[Mainland et al. Sci Data (2015) 2:150002](https://www.nature.com/articles/sdata20152), \n",
    "[Jiang et al. Nat Neurosci (2015) 18:1446-1454](https://www.nature.com/articles/nn.4104), \n",
    "[Kida et al. Nat Commun (2018) 9:4556](https://www.nature.com/articles/s41467-018-06806-w), \n",
    "[Jones et al. Cell Syst (2019) 8:254-260](https://doi.org/10.1016/j.cels.2019.02.009).\n",
    "\n",
    "## Software requirements\n",
    "\n",
    "- `R` version 3.5 or higher is recommended.  \n",
    "- Required R packages: `caret`, `MLmetrics`, `e1071`, `bio3d`, `stringr`, `ggpubr`, `gridExtra`  \n",
    "It is recommended to install the packages with `Conda` (e.g. *conda install r-MLmetrics*, *conda install -c conda-forge r-ggpubr*) prior to using this notebook.  \n",
    "Alternative package installtion by `install.packages` (see below) may **fail**.  \n",
    "\n",
    "### Install & load required packages"
   ]
  },
  {
   "cell_type": "code",
   "execution_count": 1,
   "metadata": {
    "scrolled": false
   },
   "outputs": [
    {
     "name": "stderr",
     "output_type": "stream",
     "text": [
      "Loading required package: caret\n",
      "\n",
      "Loading required package: lattice\n",
      "\n",
      "Loading required package: ggplot2\n",
      "\n",
      "Loading required package: ROCR\n",
      "\n",
      "Loading required package: MLmetrics\n",
      "\n",
      "\n",
      "Attaching package: ‘MLmetrics’\n",
      "\n",
      "\n",
      "The following objects are masked from ‘package:caret’:\n",
      "\n",
      "    MAE, RMSE\n",
      "\n",
      "\n",
      "The following object is masked from ‘package:base’:\n",
      "\n",
      "    Recall\n",
      "\n",
      "\n",
      "Loading required package: e1071\n",
      "\n",
      "Loading required package: bio3d\n",
      "\n",
      "Loading required package: stringr\n",
      "\n",
      "Loading required package: ggpubr\n",
      "\n",
      "Loading required package: gridExtra\n",
      "\n"
     ]
    }
   ],
   "source": [
    "packages <- c(\"caret\", \"ROCR\", \"MLmetrics\", \"e1071\", \"bio3d\", \"stringr\", \"ggpubr\", \"gridExtra\")\n",
    "missing <- !unlist(lapply(packages, require, character.only = TRUE))\n",
    "\n",
    "if (any(missing)){\n",
    "    install.packages(packages[missing], dependencies = TRUE, repos='http://cran.us.r-project.org')\n",
    "    lapply((packages[missing]), library, character.only = TRUE)\n",
    "    }"
   ]
  },
  {
   "cell_type": "markdown",
   "metadata": {},
   "source": [
    "## 1. Training data  \n",
    "- **OR data**: pre-aligned sequences of human & mouse ORs, in which each amino acid will be converted to three physicochemical scores (`Composition`, `Polarity`, `Volumn`);  \n",
    "- **Odorant data**: 244 odorants represented by molecular descriptors, which have been pre-calculated with [Dragon 7.0](https://chm.kode-solutions.net/products_dragon.php);  \n",
    "- Finally, merge the above data into a **proteochemometric** presentation of OR-odorant pairs, labeled by **positive** (if the OR responds to the odorant *in vitro* in a dose-dependent manner) or **negative** (no significant response observed *in vitro*). \n",
    "\n",
    "### 1.1 Convert OR sequence alignment to physicochemical features\n",
    "\n",
    "Load the sequence alignment of human and mouse ORs, including some mutants. For this study, only the 7-transmembrane domain (7TM) and the extracellular loop 2 (ECL2) are included in the alignment, which are numbered according to the Ballesteros-Weinstein scheme. "
   ]
  },
  {
   "cell_type": "code",
   "execution_count": 2,
   "metadata": {},
   "outputs": [],
   "source": [
    "# Ballesteros-Weinstein numbering scheme\n",
    "TM_ECL2 <- c(seq(1.32, 1.65, 0.01), # TM1\n",
    "             seq(2.39, 2.67, 0.01), # TM2\n",
    "             seq(3.25, 3.55, 0.01), # TM3\n",
    "             seq(4.40, 4.61, 0.01), # TM4\n",
    "             paste(\"EClII\", 1:23, sep=\"\"), # ECL2\n",
    "             seq(5.37, 5.65, 0.01), # TM5\n",
    "             seq(6.32, 6.56, 0.01), # TM6\n",
    "             seq(7.35, 7.55, 0.01)) # TM7\n",
    "\n",
    "seq <- read.fasta(\"Response_to_odorants/Data/Sequence_alignment.fa\")\n",
    "datOR <- as.data.frame(seq$ali)\n",
    "colnames(datOR) <- paste0(\"Res\", TM_ECL2)"
   ]
  },
  {
   "cell_type": "markdown",
   "metadata": {},
   "source": [
    "#### Take a look at the first 5 residues of 3 ORs:"
   ]
  },
  {
   "cell_type": "code",
   "execution_count": 3,
   "metadata": {},
   "outputs": [
    {
     "data": {
      "text/html": [
       "<table class=\"dataframe\">\n",
       "<caption>A data.frame: 3 × 5</caption>\n",
       "<thead>\n",
       "\t<tr><th></th><th scope=col>Res1.32</th><th scope=col>Res1.33</th><th scope=col>Res1.34</th><th scope=col>Res1.35</th><th scope=col>Res1.36</th></tr>\n",
       "\t<tr><th></th><th scope=col>&lt;fct&gt;</th><th scope=col>&lt;fct&gt;</th><th scope=col>&lt;fct&gt;</th><th scope=col>&lt;fct&gt;</th><th scope=col>&lt;fct&gt;</th></tr>\n",
       "</thead>\n",
       "<tbody>\n",
       "\t<tr><th scope=row>hOR10A2</th><td>Q</td><td>S</td><td>L</td><td>L</td><td>F</td></tr>\n",
       "\t<tr><th scope=row>hOR10A3</th><td>Q</td><td>V</td><td>Q</td><td>L</td><td>F</td></tr>\n",
       "\t<tr><th scope=row>hOR10A4</th><td>Q</td><td>A</td><td>L</td><td>L</td><td>F</td></tr>\n",
       "</tbody>\n",
       "</table>\n"
      ],
      "text/latex": [
       "A data.frame: 3 × 5\n",
       "\\begin{tabular}{r|lllll}\n",
       "  & Res1.32 & Res1.33 & Res1.34 & Res1.35 & Res1.36\\\\\n",
       "  & <fct> & <fct> & <fct> & <fct> & <fct>\\\\\n",
       "\\hline\n",
       "\thOR10A2 & Q & S & L & L & F\\\\\n",
       "\thOR10A3 & Q & V & Q & L & F\\\\\n",
       "\thOR10A4 & Q & A & L & L & F\\\\\n",
       "\\end{tabular}\n"
      ],
      "text/markdown": [
       "\n",
       "A data.frame: 3 × 5\n",
       "\n",
       "| <!--/--> | Res1.32 &lt;fct&gt; | Res1.33 &lt;fct&gt; | Res1.34 &lt;fct&gt; | Res1.35 &lt;fct&gt; | Res1.36 &lt;fct&gt; |\n",
       "|---|---|---|---|---|---|\n",
       "| hOR10A2 | Q | S | L | L | F |\n",
       "| hOR10A3 | Q | V | Q | L | F |\n",
       "| hOR10A4 | Q | A | L | L | F |\n",
       "\n"
      ],
      "text/plain": [
       "        Res1.32 Res1.33 Res1.34 Res1.35 Res1.36\n",
       "hOR10A2 Q       S       L       L       F      \n",
       "hOR10A3 Q       V       Q       L       F      \n",
       "hOR10A4 Q       A       L       L       F      "
      ]
     },
     "metadata": {},
     "output_type": "display_data"
    }
   ],
   "source": [
    "datOR[1:3, 1:5]"
   ]
  },
  {
   "cell_type": "markdown",
   "metadata": {},
   "source": [
    "Remove gaps from the alignment, then convert each amimo acid to its physicochemical scores (features): `Composition`, `Polarity`, `Volumn` [Grantham, Science (1974) 185:862-4](https://science.sciencemag.org/content/185/4154/862)"
   ]
  },
  {
   "cell_type": "code",
   "execution_count": 4,
   "metadata": {
    "scrolled": false
   },
   "outputs": [
    {
     "name": "stdout",
     "output_type": "stream",
     "text": [
      "The first 5 residues of 3 ORs after conversion:"
     ]
    },
    {
     "data": {
      "text/html": [
       "<table class=\"dataframe\">\n",
       "<caption>A data.frame: 3 × 15</caption>\n",
       "<thead>\n",
       "\t<tr><th></th><th scope=col>Res1.32Comp</th><th scope=col>Res1.32Polar</th><th scope=col>Res1.32Vol</th><th scope=col>Res1.34Comp</th><th scope=col>Res1.34Polar</th><th scope=col>Res1.34Vol</th><th scope=col>Res1.35Comp</th><th scope=col>Res1.35Polar</th><th scope=col>Res1.35Vol</th><th scope=col>Res1.36Comp</th><th scope=col>Res1.36Polar</th><th scope=col>Res1.36Vol</th><th scope=col>Res1.37Comp</th><th scope=col>Res1.37Polar</th><th scope=col>Res1.37Vol</th></tr>\n",
       "\t<tr><th></th><th scope=col>&lt;dbl&gt;</th><th scope=col>&lt;dbl&gt;</th><th scope=col>&lt;dbl&gt;</th><th scope=col>&lt;dbl&gt;</th><th scope=col>&lt;dbl&gt;</th><th scope=col>&lt;dbl&gt;</th><th scope=col>&lt;dbl&gt;</th><th scope=col>&lt;dbl&gt;</th><th scope=col>&lt;dbl&gt;</th><th scope=col>&lt;dbl&gt;</th><th scope=col>&lt;dbl&gt;</th><th scope=col>&lt;dbl&gt;</th><th scope=col>&lt;dbl&gt;</th><th scope=col>&lt;dbl&gt;</th><th scope=col>&lt;dbl&gt;</th></tr>\n",
       "</thead>\n",
       "<tbody>\n",
       "\t<tr><th scope=row>hOR10A2</th><td>0.89</td><td>10.5</td><td>85</td><td>0.00</td><td> 4.9</td><td>111</td><td>0</td><td>4.9</td><td>111</td><td>0</td><td>5.2</td><td>132</td><td>0.00</td><td>4.9</td><td>111</td></tr>\n",
       "\t<tr><th scope=row>hOR10A3</th><td>0.89</td><td>10.5</td><td>85</td><td>0.89</td><td>10.5</td><td> 85</td><td>0</td><td>4.9</td><td>111</td><td>0</td><td>5.2</td><td>132</td><td>0.74</td><td>9.0</td><td>  3</td></tr>\n",
       "\t<tr><th scope=row>hOR10A4</th><td>0.89</td><td>10.5</td><td>85</td><td>0.00</td><td> 4.9</td><td>111</td><td>0</td><td>4.9</td><td>111</td><td>0</td><td>5.2</td><td>132</td><td>0.00</td><td>4.9</td><td>111</td></tr>\n",
       "</tbody>\n",
       "</table>\n"
      ],
      "text/latex": [
       "A data.frame: 3 × 15\n",
       "\\begin{tabular}{r|lllllllllllllll}\n",
       "  & Res1.32Comp & Res1.32Polar & Res1.32Vol & Res1.34Comp & Res1.34Polar & Res1.34Vol & Res1.35Comp & Res1.35Polar & Res1.35Vol & Res1.36Comp & Res1.36Polar & Res1.36Vol & Res1.37Comp & Res1.37Polar & Res1.37Vol\\\\\n",
       "  & <dbl> & <dbl> & <dbl> & <dbl> & <dbl> & <dbl> & <dbl> & <dbl> & <dbl> & <dbl> & <dbl> & <dbl> & <dbl> & <dbl> & <dbl>\\\\\n",
       "\\hline\n",
       "\thOR10A2 & 0.89 & 10.5 & 85 & 0.00 &  4.9 & 111 & 0 & 4.9 & 111 & 0 & 5.2 & 132 & 0.00 & 4.9 & 111\\\\\n",
       "\thOR10A3 & 0.89 & 10.5 & 85 & 0.89 & 10.5 &  85 & 0 & 4.9 & 111 & 0 & 5.2 & 132 & 0.74 & 9.0 &   3\\\\\n",
       "\thOR10A4 & 0.89 & 10.5 & 85 & 0.00 &  4.9 & 111 & 0 & 4.9 & 111 & 0 & 5.2 & 132 & 0.00 & 4.9 & 111\\\\\n",
       "\\end{tabular}\n"
      ],
      "text/markdown": [
       "\n",
       "A data.frame: 3 × 15\n",
       "\n",
       "| <!--/--> | Res1.32Comp &lt;dbl&gt; | Res1.32Polar &lt;dbl&gt; | Res1.32Vol &lt;dbl&gt; | Res1.34Comp &lt;dbl&gt; | Res1.34Polar &lt;dbl&gt; | Res1.34Vol &lt;dbl&gt; | Res1.35Comp &lt;dbl&gt; | Res1.35Polar &lt;dbl&gt; | Res1.35Vol &lt;dbl&gt; | Res1.36Comp &lt;dbl&gt; | Res1.36Polar &lt;dbl&gt; | Res1.36Vol &lt;dbl&gt; | Res1.37Comp &lt;dbl&gt; | Res1.37Polar &lt;dbl&gt; | Res1.37Vol &lt;dbl&gt; |\n",
       "|---|---|---|---|---|---|---|---|---|---|---|---|---|---|---|---|\n",
       "| hOR10A2 | 0.89 | 10.5 | 85 | 0.00 |  4.9 | 111 | 0 | 4.9 | 111 | 0 | 5.2 | 132 | 0.00 | 4.9 | 111 |\n",
       "| hOR10A3 | 0.89 | 10.5 | 85 | 0.89 | 10.5 |  85 | 0 | 4.9 | 111 | 0 | 5.2 | 132 | 0.74 | 9.0 |   3 |\n",
       "| hOR10A4 | 0.89 | 10.5 | 85 | 0.00 |  4.9 | 111 | 0 | 4.9 | 111 | 0 | 5.2 | 132 | 0.00 | 4.9 | 111 |\n",
       "\n"
      ],
      "text/plain": [
       "        Res1.32Comp Res1.32Polar Res1.32Vol Res1.34Comp Res1.34Polar Res1.34Vol\n",
       "hOR10A2 0.89        10.5         85         0.00         4.9         111       \n",
       "hOR10A3 0.89        10.5         85         0.89        10.5          85       \n",
       "hOR10A4 0.89        10.5         85         0.00         4.9         111       \n",
       "        Res1.35Comp Res1.35Polar Res1.35Vol Res1.36Comp Res1.36Polar Res1.36Vol\n",
       "hOR10A2 0           4.9          111        0           5.2          132       \n",
       "hOR10A3 0           4.9          111        0           5.2          132       \n",
       "hOR10A4 0           4.9          111        0           5.2          132       \n",
       "        Res1.37Comp Res1.37Polar Res1.37Vol\n",
       "hOR10A2 0.00        4.9          111       \n",
       "hOR10A3 0.74        9.0            3       \n",
       "hOR10A4 0.00        4.9          111       "
      ]
     },
     "metadata": {},
     "output_type": "display_data"
    }
   ],
   "source": [
    "# Remove columns that contain gaps in > 1% of the ORs \n",
    "datOR <- datOR[, colSums(datOR == \"-\") < nrow(datOR)*0.01]\n",
    "\n",
    "# Remove ORs that still contain gaps\n",
    "datOR <- datOR[rowSums(datOR == \"-\") == 0, ]\n",
    "\n",
    "# Convert amino acids to physicochemical features\n",
    "source(\"Functions/sequence2features_Grantham1974.R\")\n",
    "datOR <- cbind(residProps(datOR, \"Vol\"),\n",
    "               residProps(datOR, \"Comp\"),\n",
    "               residProps(datOR, \"Polar\"))\n",
    "datOR <- datOR[, sort(names(datOR))]\n",
    "\n",
    "cat(\"The first 5 residues of 3 ORs after conversion:\")\n",
    "datOR[1:3,1:15]"
   ]
  },
  {
   "cell_type": "code",
   "execution_count": 5,
   "metadata": {},
   "outputs": [
    {
     "name": "stdout",
     "output_type": "stream",
     "text": [
      "The alignment now contains 1733 ORs and 398 features."
     ]
    }
   ],
   "source": [
    "# Remove low variance features\n",
    "near_zero <- nearZeroVar(datOR[, ], freqCut = 95/5, saveMetrics = TRUE)\n",
    "low_variance_cols <- near_zero[(near_zero$zeroVar == TRUE) | (near_zero$nzv == TRUE), ]\n",
    "drops <- rownames(low_variance_cols)\n",
    "datOR <- datOR[, !(names(datOR) %in% drops)]\n",
    "\n",
    "# Remove highly correlated features\n",
    "correlationMatrix <- cor(datOR)\n",
    "highlyCorrelated <- findCorrelation(correlationMatrix, cutoff = 0.8)\n",
    "datOR <- datOR[, -highlyCorrelated]\n",
    "\n",
    "cat(\"The alignment now contains\", nrow(datOR), \"ORs and\", ncol(datOR), \"features.\")"
   ]
  },
  {
   "cell_type": "code",
   "execution_count": 6,
   "metadata": {},
   "outputs": [
    {
     "name": "stdout",
     "output_type": "stream",
     "text": [
      "The training set contains 720 ORs, including 328 orphan ORs."
     ]
    }
   ],
   "source": [
    "# Extract training set ORs\n",
    "trainOR <- read.csv('Response_to_odorants/Data/TrainingSet_OR-odorant_pairs/trainORs_labeled.csv',\n",
    "                    stringsAsFactors = FALSE)\n",
    "cat(\"The training set contains\", nrow(trainOR), \"ORs, including\", sum(trainOR$Label == \"Orphan\"), \"orphan ORs.\")\n",
    "\n",
    "datTrainOR <- datOR[rownames(datOR) %in% trainOR$OR, ]\n",
    "trainOR <- trainOR[trainOR$OR %in% rownames(datTrainOR), ]"
   ]
  },
  {
   "cell_type": "markdown",
   "metadata": {},
   "source": [
    "### 1.2 Molecular descriptors of odorants  \n",
    "  \n",
    "Load pre-calculated molecular descriptors (features) of 244 odorants.  \n",
    "Each odorant has a unique PubChem CID, a SMILES string and 3850 features:"
   ]
  },
  {
   "cell_type": "code",
   "execution_count": 7,
   "metadata": {
    "scrolled": false
   },
   "outputs": [
    {
     "data": {
      "text/html": [
       "<table class=\"dataframe\">\n",
       "<caption>A data.frame: 3 × 10</caption>\n",
       "<thead>\n",
       "\t<tr><th></th><th scope=col>Odorant</th><th scope=col>CID</th><th scope=col>SMILES</th><th scope=col>Feat1</th><th scope=col>Feat2</th><th scope=col>Feat3</th><th scope=col>Feat4</th><th scope=col>Feat5</th><th scope=col>Feat6</th><th scope=col>Feat7</th></tr>\n",
       "\t<tr><th></th><th scope=col>&lt;chr&gt;</th><th scope=col>&lt;chr&gt;</th><th scope=col>&lt;chr&gt;</th><th scope=col>&lt;dbl&gt;</th><th scope=col>&lt;dbl&gt;</th><th scope=col>&lt;dbl&gt;</th><th scope=col>&lt;dbl&gt;</th><th scope=col>&lt;dbl&gt;</th><th scope=col>&lt;dbl&gt;</th><th scope=col>&lt;dbl&gt;</th></tr>\n",
       "</thead>\n",
       "<tbody>\n",
       "\t<tr><th scope=row>1</th><td>phenylmethanol</td><td>244 </td><td>OCc1ccccc1         </td><td>108.15</td><td>6.759</td><td> 9.822</td><td>15.862</td><td>10.500</td><td>17.870</td><td>0.614</td></tr>\n",
       "\t<tr><th scope=row>2</th><td>benzaldehyde  </td><td>240 </td><td>O=Cc1ccccc1        </td><td>106.13</td><td>7.581</td><td> 9.295</td><td>13.978</td><td> 9.739</td><td>15.455</td><td>0.664</td></tr>\n",
       "\t<tr><th scope=row>3</th><td>Diphenyl ether</td><td>7583</td><td>O(c1ccccc1)c2ccccc2</td><td>170.22</td><td>7.401</td><td>15.349</td><td>22.745</td><td>16.262</td><td>25.285</td><td>0.667</td></tr>\n",
       "</tbody>\n",
       "</table>\n"
      ],
      "text/latex": [
       "A data.frame: 3 × 10\n",
       "\\begin{tabular}{r|llllllllll}\n",
       "  & Odorant & CID & SMILES & Feat1 & Feat2 & Feat3 & Feat4 & Feat5 & Feat6 & Feat7\\\\\n",
       "  & <chr> & <chr> & <chr> & <dbl> & <dbl> & <dbl> & <dbl> & <dbl> & <dbl> & <dbl>\\\\\n",
       "\\hline\n",
       "\t1 & phenylmethanol & 244  & OCc1ccccc1          & 108.15 & 6.759 &  9.822 & 15.862 & 10.500 & 17.870 & 0.614\\\\\n",
       "\t2 & benzaldehyde   & 240  & O=Cc1ccccc1         & 106.13 & 7.581 &  9.295 & 13.978 &  9.739 & 15.455 & 0.664\\\\\n",
       "\t3 & Diphenyl ether & 7583 & O(c1ccccc1)c2ccccc2 & 170.22 & 7.401 & 15.349 & 22.745 & 16.262 & 25.285 & 0.667\\\\\n",
       "\\end{tabular}\n"
      ],
      "text/markdown": [
       "\n",
       "A data.frame: 3 × 10\n",
       "\n",
       "| <!--/--> | Odorant &lt;chr&gt; | CID &lt;chr&gt; | SMILES &lt;chr&gt; | Feat1 &lt;dbl&gt; | Feat2 &lt;dbl&gt; | Feat3 &lt;dbl&gt; | Feat4 &lt;dbl&gt; | Feat5 &lt;dbl&gt; | Feat6 &lt;dbl&gt; | Feat7 &lt;dbl&gt; |\n",
       "|---|---|---|---|---|---|---|---|---|---|---|\n",
       "| 1 | phenylmethanol | 244  | OCc1ccccc1          | 108.15 | 6.759 |  9.822 | 15.862 | 10.500 | 17.870 | 0.614 |\n",
       "| 2 | benzaldehyde   | 240  | O=Cc1ccccc1         | 106.13 | 7.581 |  9.295 | 13.978 |  9.739 | 15.455 | 0.664 |\n",
       "| 3 | Diphenyl ether | 7583 | O(c1ccccc1)c2ccccc2 | 170.22 | 7.401 | 15.349 | 22.745 | 16.262 | 25.285 | 0.667 |\n",
       "\n"
      ],
      "text/plain": [
       "  Odorant        CID  SMILES              Feat1  Feat2 Feat3  Feat4  Feat5 \n",
       "1 phenylmethanol 244  OCc1ccccc1          108.15 6.759  9.822 15.862 10.500\n",
       "2 benzaldehyde   240  O=Cc1ccccc1         106.13 7.581  9.295 13.978  9.739\n",
       "3 Diphenyl ether 7583 O(c1ccccc1)c2ccccc2 170.22 7.401 15.349 22.745 16.262\n",
       "  Feat6  Feat7\n",
       "1 17.870 0.614\n",
       "2 15.455 0.664\n",
       "3 25.285 0.667"
      ]
     },
     "metadata": {},
     "output_type": "display_data"
    }
   ],
   "source": [
    "allOdor <- read.csv(\"Response_to_odorants/Data/Odorants_features.csv\", header = 1,\n",
    "                    colClasses=c('character', 'character', 'character', replicate(3850, 'numeric')))\n",
    "allOdor[1:3, 1:10]"
   ]
  },
  {
   "cell_type": "markdown",
   "metadata": {},
   "source": [
    "The training set will contain the 4 odorants of interest, as well as their analogs.  \n",
    "To to find their analogs, we use a pre-calculated chemical similarity (`Tanimono coefficient`) matrix between the 244 odorants."
   ]
  },
  {
   "cell_type": "code",
   "execution_count": 8,
   "metadata": {},
   "outputs": [
    {
     "name": "stdout",
     "output_type": "stream",
     "text": [
      "The training set contains: \n",
      "\n",
      " 4 odorants of interest"
     ]
    },
    {
     "data": {
      "text/html": [
       "<table class=\"dataframe\">\n",
       "<caption>A data.frame: 4 × 3</caption>\n",
       "<thead>\n",
       "\t<tr><th></th><th scope=col>Odorant</th><th scope=col>CID</th><th scope=col>SMILES</th></tr>\n",
       "\t<tr><th></th><th scope=col>&lt;chr&gt;</th><th scope=col>&lt;chr&gt;</th><th scope=col>&lt;chr&gt;</th></tr>\n",
       "</thead>\n",
       "<tbody>\n",
       "\t<tr><th scope=row>128</th><td>4-chromanone </td><td>68110 </td><td>O=C1CCOc2ccccc12        </td></tr>\n",
       "\t<tr><th scope=row>186</th><td>coumarin     </td><td>323   </td><td>O=C1Oc2ccccc2C=C1       </td></tr>\n",
       "\t<tr><th scope=row>197</th><td>acetophenone </td><td>7410  </td><td>CC(=O)c1ccccc1          </td></tr>\n",
       "\t<tr><th scope=row>223</th><td>R-(-)-Carvone</td><td>439570</td><td>CC1=CC[C@H](CC1=O)C(=C)C</td></tr>\n",
       "</tbody>\n",
       "</table>\n"
      ],
      "text/latex": [
       "A data.frame: 4 × 3\n",
       "\\begin{tabular}{r|lll}\n",
       "  & Odorant & CID & SMILES\\\\\n",
       "  & <chr> & <chr> & <chr>\\\\\n",
       "\\hline\n",
       "\t128 & 4-chromanone  & 68110  & O=C1CCOc2ccccc12        \\\\\n",
       "\t186 & coumarin      & 323    & O=C1Oc2ccccc2C=C1       \\\\\n",
       "\t197 & acetophenone  & 7410   & CC(=O)c1ccccc1          \\\\\n",
       "\t223 & R-(-)-Carvone & 439570 & CC1=CC{[}C@H{]}(CC1=O)C(=C)C\\\\\n",
       "\\end{tabular}\n"
      ],
      "text/markdown": [
       "\n",
       "A data.frame: 4 × 3\n",
       "\n",
       "| <!--/--> | Odorant &lt;chr&gt; | CID &lt;chr&gt; | SMILES &lt;chr&gt; |\n",
       "|---|---|---|---|\n",
       "| 128 | 4-chromanone  | 68110  | O=C1CCOc2ccccc12         |\n",
       "| 186 | coumarin      | 323    | O=C1Oc2ccccc2C=C1        |\n",
       "| 197 | acetophenone  | 7410   | CC(=O)c1ccccc1           |\n",
       "| 223 | R-(-)-Carvone | 439570 | CC1=CC[C@H](CC1=O)C(=C)C |\n",
       "\n"
      ],
      "text/plain": [
       "    Odorant       CID    SMILES                  \n",
       "128 4-chromanone  68110  O=C1CCOc2ccccc12        \n",
       "186 coumarin      323    O=C1Oc2ccccc2C=C1       \n",
       "197 acetophenone  7410   CC(=O)c1ccccc1          \n",
       "223 R-(-)-Carvone 439570 CC1=CC[C@H](CC1=O)C(=C)C"
      ]
     },
     "metadata": {},
     "output_type": "display_data"
    },
    {
     "name": "stdout",
     "output_type": "stream",
     "text": [
      "and their 6 analogs:"
     ]
    },
    {
     "data": {
      "text/html": [
       "<table class=\"dataframe\">\n",
       "<caption>A data.frame: 6 × 3</caption>\n",
       "<thead>\n",
       "\t<tr><th></th><th scope=col>Odorant</th><th scope=col>CID</th><th scope=col>SMILES</th></tr>\n",
       "\t<tr><th></th><th scope=col>&lt;chr&gt;</th><th scope=col>&lt;chr&gt;</th><th scope=col>&lt;chr&gt;</th></tr>\n",
       "</thead>\n",
       "<tbody>\n",
       "\t<tr><th scope=row>98</th><td>S-(+)-carvone    </td><td>16724   </td><td>CC1=CC[C@@H](CC1=O)C(=C)C  </td></tr>\n",
       "\t<tr><th scope=row>144</th><td>(R)-(+)-limonene </td><td>440917  </td><td>CC1=CC[C@@H](CC1)C(=C)C    </td></tr>\n",
       "\t<tr><th scope=row>145</th><td>(S)-(-)-limonene </td><td>439250  </td><td>CC1=CC[C@H](CC1)C(=C)C     </td></tr>\n",
       "\t<tr><th scope=row>157</th><td>Isolimonene      </td><td>22831540</td><td>CC(=C)C1CCC(=CC1)C         </td></tr>\n",
       "\t<tr><th scope=row>201</th><td>methyl benzoate  </td><td>7150    </td><td>COC(=O)C1=CC=CC=C1         </td></tr>\n",
       "\t<tr><th scope=row>243</th><td>4-Hydroxycoumarin</td><td>54682930</td><td>C1=CC=C2C(=C1)C(=CC(=O)O2)O</td></tr>\n",
       "</tbody>\n",
       "</table>\n"
      ],
      "text/latex": [
       "A data.frame: 6 × 3\n",
       "\\begin{tabular}{r|lll}\n",
       "  & Odorant & CID & SMILES\\\\\n",
       "  & <chr> & <chr> & <chr>\\\\\n",
       "\\hline\n",
       "\t98 & S-(+)-carvone     & 16724    & CC1=CC{[}C@@H{]}(CC1=O)C(=C)C  \\\\\n",
       "\t144 & (R)-(+)-limonene  & 440917   & CC1=CC{[}C@@H{]}(CC1)C(=C)C    \\\\\n",
       "\t145 & (S)-(-)-limonene  & 439250   & CC1=CC{[}C@H{]}(CC1)C(=C)C     \\\\\n",
       "\t157 & Isolimonene       & 22831540 & CC(=C)C1CCC(=CC1)C         \\\\\n",
       "\t201 & methyl benzoate   & 7150     & COC(=O)C1=CC=CC=C1         \\\\\n",
       "\t243 & 4-Hydroxycoumarin & 54682930 & C1=CC=C2C(=C1)C(=CC(=O)O2)O\\\\\n",
       "\\end{tabular}\n"
      ],
      "text/markdown": [
       "\n",
       "A data.frame: 6 × 3\n",
       "\n",
       "| <!--/--> | Odorant &lt;chr&gt; | CID &lt;chr&gt; | SMILES &lt;chr&gt; |\n",
       "|---|---|---|---|\n",
       "| 98 | S-(+)-carvone     | 16724    | CC1=CC[C@@H](CC1=O)C(=C)C   |\n",
       "| 144 | (R)-(+)-limonene  | 440917   | CC1=CC[C@@H](CC1)C(=C)C     |\n",
       "| 145 | (S)-(-)-limonene  | 439250   | CC1=CC[C@H](CC1)C(=C)C      |\n",
       "| 157 | Isolimonene       | 22831540 | CC(=C)C1CCC(=CC1)C          |\n",
       "| 201 | methyl benzoate   | 7150     | COC(=O)C1=CC=CC=C1          |\n",
       "| 243 | 4-Hydroxycoumarin | 54682930 | C1=CC=C2C(=C1)C(=CC(=O)O2)O |\n",
       "\n"
      ],
      "text/plain": [
       "    Odorant           CID      SMILES                     \n",
       "98  S-(+)-carvone     16724    CC1=CC[C@@H](CC1=O)C(=C)C  \n",
       "144 (R)-(+)-limonene  440917   CC1=CC[C@@H](CC1)C(=C)C    \n",
       "145 (S)-(-)-limonene  439250   CC1=CC[C@H](CC1)C(=C)C     \n",
       "157 Isolimonene       22831540 CC(=C)C1CCC(=CC1)C         \n",
       "201 methyl benzoate   7150     COC(=O)C1=CC=CC=C1         \n",
       "243 4-Hydroxycoumarin 54682930 C1=CC=C2C(=C1)C(=CC(=O)O2)O"
      ]
     },
     "metadata": {},
     "output_type": "display_data"
    }
   ],
   "source": [
    "# Load the chemical similarity matrix\n",
    "tanimoto <- read.csv('Response_to_odorants/Data/Odorants_similarity.csv', row.names = 1)\n",
    "\n",
    "# PubChem CIDs of the 4 odorants of interest\n",
    "testCIDs <- c(439570, 7410, 323, 68110)\n",
    "\n",
    "# Tanimoto coeeficient > 0.6 are considered similar\n",
    "numextract <- function(string){ \n",
    "  as.numeric(str_extract(string, \"\\\\-*\\\\d+\\\\.*\\\\d*\"))\n",
    "}\n",
    "\n",
    "trainCIDs <- numextract(colnames(tanimoto)[colSums(tanimoto[paste0('CID', testCIDs), ] > 0.6) > 0])\n",
    "\n",
    "cat(\"The training set contains: \\n\\n\", length(testCIDs), \"odorants of interest\")\n",
    "allOdor[allOdor$CID %in% testCIDs, 1:3]\n",
    "\n",
    "cat(\"and their\", length(setdiff(trainCIDs, testCIDs)), \"analogs:\")\n",
    "allOdor[allOdor$CID %in% setdiff(trainCIDs, testCIDs), 1:3]"
   ]
  },
  {
   "cell_type": "code",
   "execution_count": 9,
   "metadata": {},
   "outputs": [
    {
     "name": "stdout",
     "output_type": "stream",
     "text": [
      "17 features remained:"
     ]
    },
    {
     "data": {
      "text/html": [
       "<table class=\"dataframe\">\n",
       "<caption>A data.frame: 10 × 17</caption>\n",
       "<thead>\n",
       "\t<tr><th></th><th scope=col>CID</th><th scope=col>Feat371</th><th scope=col>Feat805</th><th scope=col>Feat824</th><th scope=col>Feat991</th><th scope=col>Feat994</th><th scope=col>Feat1023</th><th scope=col>Feat1032</th><th scope=col>Feat1061</th><th scope=col>Feat1066</th><th scope=col>Feat1080</th><th scope=col>Feat1099</th><th scope=col>Feat1152</th><th scope=col>Feat1249</th><th scope=col>Feat1517</th><th scope=col>Feat1764</th><th scope=col>Feat1964</th></tr>\n",
       "\t<tr><th></th><th scope=col>&lt;fct&gt;</th><th scope=col>&lt;dbl&gt;</th><th scope=col>&lt;dbl&gt;</th><th scope=col>&lt;dbl&gt;</th><th scope=col>&lt;dbl&gt;</th><th scope=col>&lt;dbl&gt;</th><th scope=col>&lt;dbl&gt;</th><th scope=col>&lt;dbl&gt;</th><th scope=col>&lt;dbl&gt;</th><th scope=col>&lt;dbl&gt;</th><th scope=col>&lt;dbl&gt;</th><th scope=col>&lt;dbl&gt;</th><th scope=col>&lt;dbl&gt;</th><th scope=col>&lt;dbl&gt;</th><th scope=col>&lt;dbl&gt;</th><th scope=col>&lt;dbl&gt;</th><th scope=col>&lt;dbl&gt;</th></tr>\n",
       "</thead>\n",
       "<tbody>\n",
       "\t<tr><th scope=row>98</th><td>16724   </td><td>0.996</td><td>1.278</td><td>0.004</td><td> 0.000</td><td>-0.225</td><td> 0.000</td><td> 0.044</td><td>0.280</td><td>1.108</td><td>0.525</td><td>0.049</td><td>3.552</td><td>54.334</td><td>0.68</td><td>0</td><td>1</td></tr>\n",
       "\t<tr><th scope=row>128</th><td>68110   </td><td>0.997</td><td>1.258</td><td>0.017</td><td> 0.050</td><td>-0.344</td><td>-0.051</td><td>-0.057</td><td>0.000</td><td>1.141</td><td>0.674</td><td>0.046</td><td>3.370</td><td>43.625</td><td>0.86</td><td>1</td><td>0</td></tr>\n",
       "\t<tr><th scope=row>144</th><td>440917  </td><td>0.997</td><td>1.272</td><td>0.026</td><td> 0.000</td><td>-0.152</td><td> 0.000</td><td> 0.091</td><td>2.031</td><td>1.071</td><td>0.625</td><td>0.045</td><td>3.476</td><td>56.868</td><td>0.68</td><td>0</td><td>1</td></tr>\n",
       "\t<tr><th scope=row>145</th><td>439250  </td><td>0.997</td><td>1.272</td><td>0.026</td><td> 0.000</td><td>-0.152</td><td> 0.000</td><td> 0.091</td><td>2.031</td><td>1.071</td><td>0.625</td><td>0.045</td><td>3.476</td><td>56.868</td><td>0.68</td><td>0</td><td>1</td></tr>\n",
       "\t<tr><th scope=row>157</th><td>22831540</td><td>0.997</td><td>1.272</td><td>0.026</td><td> 0.000</td><td>-0.152</td><td> 0.000</td><td> 0.091</td><td>2.031</td><td>1.071</td><td>0.625</td><td>0.045</td><td>3.476</td><td>56.868</td><td>0.68</td><td>0</td><td>1</td></tr>\n",
       "\t<tr><th scope=row>186</th><td>323     </td><td>0.998</td><td>1.279</td><td>0.018</td><td> 0.043</td><td>-0.257</td><td>-0.056</td><td> 0.153</td><td>2.595</td><td>1.063</td><td>0.474</td><td>0.031</td><td>3.463</td><td>60.043</td><td>0.00</td><td>0</td><td>2</td></tr>\n",
       "\t<tr><th scope=row>197</th><td>7410    </td><td>0.998</td><td>1.286</td><td>0.015</td><td> 0.000</td><td>-0.286</td><td> 0.000</td><td> 0.030</td><td>0.000</td><td>1.233</td><td>0.587</td><td>0.049</td><td>3.461</td><td>59.392</td><td>0.00</td><td>0</td><td>0</td></tr>\n",
       "\t<tr><th scope=row>201</th><td>7150    </td><td>0.996</td><td>1.236</td><td>0.011</td><td> 0.028</td><td>-0.297</td><td>-0.126</td><td> 0.080</td><td>0.048</td><td>0.941</td><td>0.623</td><td>0.040</td><td>3.555</td><td>50.567</td><td>0.00</td><td>0</td><td>0</td></tr>\n",
       "\t<tr><th scope=row>223</th><td>439570  </td><td>0.996</td><td>1.278</td><td>0.004</td><td> 0.000</td><td>-0.225</td><td> 0.000</td><td> 0.044</td><td>0.280</td><td>1.108</td><td>0.525</td><td>0.049</td><td>3.552</td><td>54.334</td><td>0.68</td><td>0</td><td>1</td></tr>\n",
       "\t<tr><th scope=row>243</th><td>54682930</td><td>0.997</td><td>1.250</td><td>0.026</td><td>-0.017</td><td>-0.038</td><td> 0.052</td><td> 0.093</td><td>1.318</td><td>1.111</td><td>0.530</td><td>0.059</td><td>3.779</td><td>50.567</td><td>0.00</td><td>0</td><td>1</td></tr>\n",
       "</tbody>\n",
       "</table>\n"
      ],
      "text/latex": [
       "A data.frame: 10 × 17\n",
       "\\begin{tabular}{r|lllllllllllllllll}\n",
       "  & CID & Feat371 & Feat805 & Feat824 & Feat991 & Feat994 & Feat1023 & Feat1032 & Feat1061 & Feat1066 & Feat1080 & Feat1099 & Feat1152 & Feat1249 & Feat1517 & Feat1764 & Feat1964\\\\\n",
       "  & <fct> & <dbl> & <dbl> & <dbl> & <dbl> & <dbl> & <dbl> & <dbl> & <dbl> & <dbl> & <dbl> & <dbl> & <dbl> & <dbl> & <dbl> & <dbl> & <dbl>\\\\\n",
       "\\hline\n",
       "\t98 & 16724    & 0.996 & 1.278 & 0.004 &  0.000 & -0.225 &  0.000 &  0.044 & 0.280 & 1.108 & 0.525 & 0.049 & 3.552 & 54.334 & 0.68 & 0 & 1\\\\\n",
       "\t128 & 68110    & 0.997 & 1.258 & 0.017 &  0.050 & -0.344 & -0.051 & -0.057 & 0.000 & 1.141 & 0.674 & 0.046 & 3.370 & 43.625 & 0.86 & 1 & 0\\\\\n",
       "\t144 & 440917   & 0.997 & 1.272 & 0.026 &  0.000 & -0.152 &  0.000 &  0.091 & 2.031 & 1.071 & 0.625 & 0.045 & 3.476 & 56.868 & 0.68 & 0 & 1\\\\\n",
       "\t145 & 439250   & 0.997 & 1.272 & 0.026 &  0.000 & -0.152 &  0.000 &  0.091 & 2.031 & 1.071 & 0.625 & 0.045 & 3.476 & 56.868 & 0.68 & 0 & 1\\\\\n",
       "\t157 & 22831540 & 0.997 & 1.272 & 0.026 &  0.000 & -0.152 &  0.000 &  0.091 & 2.031 & 1.071 & 0.625 & 0.045 & 3.476 & 56.868 & 0.68 & 0 & 1\\\\\n",
       "\t186 & 323      & 0.998 & 1.279 & 0.018 &  0.043 & -0.257 & -0.056 &  0.153 & 2.595 & 1.063 & 0.474 & 0.031 & 3.463 & 60.043 & 0.00 & 0 & 2\\\\\n",
       "\t197 & 7410     & 0.998 & 1.286 & 0.015 &  0.000 & -0.286 &  0.000 &  0.030 & 0.000 & 1.233 & 0.587 & 0.049 & 3.461 & 59.392 & 0.00 & 0 & 0\\\\\n",
       "\t201 & 7150     & 0.996 & 1.236 & 0.011 &  0.028 & -0.297 & -0.126 &  0.080 & 0.048 & 0.941 & 0.623 & 0.040 & 3.555 & 50.567 & 0.00 & 0 & 0\\\\\n",
       "\t223 & 439570   & 0.996 & 1.278 & 0.004 &  0.000 & -0.225 &  0.000 &  0.044 & 0.280 & 1.108 & 0.525 & 0.049 & 3.552 & 54.334 & 0.68 & 0 & 1\\\\\n",
       "\t243 & 54682930 & 0.997 & 1.250 & 0.026 & -0.017 & -0.038 &  0.052 &  0.093 & 1.318 & 1.111 & 0.530 & 0.059 & 3.779 & 50.567 & 0.00 & 0 & 1\\\\\n",
       "\\end{tabular}\n"
      ],
      "text/markdown": [
       "\n",
       "A data.frame: 10 × 17\n",
       "\n",
       "| <!--/--> | CID &lt;fct&gt; | Feat371 &lt;dbl&gt; | Feat805 &lt;dbl&gt; | Feat824 &lt;dbl&gt; | Feat991 &lt;dbl&gt; | Feat994 &lt;dbl&gt; | Feat1023 &lt;dbl&gt; | Feat1032 &lt;dbl&gt; | Feat1061 &lt;dbl&gt; | Feat1066 &lt;dbl&gt; | Feat1080 &lt;dbl&gt; | Feat1099 &lt;dbl&gt; | Feat1152 &lt;dbl&gt; | Feat1249 &lt;dbl&gt; | Feat1517 &lt;dbl&gt; | Feat1764 &lt;dbl&gt; | Feat1964 &lt;dbl&gt; |\n",
       "|---|---|---|---|---|---|---|---|---|---|---|---|---|---|---|---|---|---|\n",
       "| 98 | 16724    | 0.996 | 1.278 | 0.004 |  0.000 | -0.225 |  0.000 |  0.044 | 0.280 | 1.108 | 0.525 | 0.049 | 3.552 | 54.334 | 0.68 | 0 | 1 |\n",
       "| 128 | 68110    | 0.997 | 1.258 | 0.017 |  0.050 | -0.344 | -0.051 | -0.057 | 0.000 | 1.141 | 0.674 | 0.046 | 3.370 | 43.625 | 0.86 | 1 | 0 |\n",
       "| 144 | 440917   | 0.997 | 1.272 | 0.026 |  0.000 | -0.152 |  0.000 |  0.091 | 2.031 | 1.071 | 0.625 | 0.045 | 3.476 | 56.868 | 0.68 | 0 | 1 |\n",
       "| 145 | 439250   | 0.997 | 1.272 | 0.026 |  0.000 | -0.152 |  0.000 |  0.091 | 2.031 | 1.071 | 0.625 | 0.045 | 3.476 | 56.868 | 0.68 | 0 | 1 |\n",
       "| 157 | 22831540 | 0.997 | 1.272 | 0.026 |  0.000 | -0.152 |  0.000 |  0.091 | 2.031 | 1.071 | 0.625 | 0.045 | 3.476 | 56.868 | 0.68 | 0 | 1 |\n",
       "| 186 | 323      | 0.998 | 1.279 | 0.018 |  0.043 | -0.257 | -0.056 |  0.153 | 2.595 | 1.063 | 0.474 | 0.031 | 3.463 | 60.043 | 0.00 | 0 | 2 |\n",
       "| 197 | 7410     | 0.998 | 1.286 | 0.015 |  0.000 | -0.286 |  0.000 |  0.030 | 0.000 | 1.233 | 0.587 | 0.049 | 3.461 | 59.392 | 0.00 | 0 | 0 |\n",
       "| 201 | 7150     | 0.996 | 1.236 | 0.011 |  0.028 | -0.297 | -0.126 |  0.080 | 0.048 | 0.941 | 0.623 | 0.040 | 3.555 | 50.567 | 0.00 | 0 | 0 |\n",
       "| 223 | 439570   | 0.996 | 1.278 | 0.004 |  0.000 | -0.225 |  0.000 |  0.044 | 0.280 | 1.108 | 0.525 | 0.049 | 3.552 | 54.334 | 0.68 | 0 | 1 |\n",
       "| 243 | 54682930 | 0.997 | 1.250 | 0.026 | -0.017 | -0.038 |  0.052 |  0.093 | 1.318 | 1.111 | 0.530 | 0.059 | 3.779 | 50.567 | 0.00 | 0 | 1 |\n",
       "\n"
      ],
      "text/plain": [
       "    CID      Feat371 Feat805 Feat824 Feat991 Feat994 Feat1023 Feat1032 Feat1061\n",
       "98  16724    0.996   1.278   0.004    0.000  -0.225   0.000    0.044   0.280   \n",
       "128 68110    0.997   1.258   0.017    0.050  -0.344  -0.051   -0.057   0.000   \n",
       "144 440917   0.997   1.272   0.026    0.000  -0.152   0.000    0.091   2.031   \n",
       "145 439250   0.997   1.272   0.026    0.000  -0.152   0.000    0.091   2.031   \n",
       "157 22831540 0.997   1.272   0.026    0.000  -0.152   0.000    0.091   2.031   \n",
       "186 323      0.998   1.279   0.018    0.043  -0.257  -0.056    0.153   2.595   \n",
       "197 7410     0.998   1.286   0.015    0.000  -0.286   0.000    0.030   0.000   \n",
       "201 7150     0.996   1.236   0.011    0.028  -0.297  -0.126    0.080   0.048   \n",
       "223 439570   0.996   1.278   0.004    0.000  -0.225   0.000    0.044   0.280   \n",
       "243 54682930 0.997   1.250   0.026   -0.017  -0.038   0.052    0.093   1.318   \n",
       "    Feat1066 Feat1080 Feat1099 Feat1152 Feat1249 Feat1517 Feat1764 Feat1964\n",
       "98  1.108    0.525    0.049    3.552    54.334   0.68     0        1       \n",
       "128 1.141    0.674    0.046    3.370    43.625   0.86     1        0       \n",
       "144 1.071    0.625    0.045    3.476    56.868   0.68     0        1       \n",
       "145 1.071    0.625    0.045    3.476    56.868   0.68     0        1       \n",
       "157 1.071    0.625    0.045    3.476    56.868   0.68     0        1       \n",
       "186 1.063    0.474    0.031    3.463    60.043   0.00     0        2       \n",
       "197 1.233    0.587    0.049    3.461    59.392   0.00     0        0       \n",
       "201 0.941    0.623    0.040    3.555    50.567   0.00     0        0       \n",
       "223 1.108    0.525    0.049    3.552    54.334   0.68     0        1       \n",
       "243 1.111    0.530    0.059    3.779    50.567   0.00     0        1       "
      ]
     },
     "metadata": {},
     "output_type": "display_data"
    }
   ],
   "source": [
    "# Extract the molecular features of the training set odorants.  \n",
    "datOdor <- allOdor[allOdor$CID %in% trainCIDs, ]\n",
    "CID <- datOdor$CID\n",
    "datOdor <- datOdor[, -c(1:3)]\n",
    "\n",
    "# Removes columns containing NA\n",
    "datOdor <- datOdor[, colSums(is.na(datOdor)) == 0]\n",
    "\n",
    "# Remove low variance features\n",
    "near_zero <- nearZeroVar(datOdor[, ], freqCut = 95/5, saveMetrics = TRUE)\n",
    "low_variance_cols <- near_zero[(near_zero$zeroVar == TRUE) | (near_zero$nzv == TRUE), ]\n",
    "drops <- rownames(low_variance_cols)\n",
    "datOdor <- datOdor[, !(names(datOdor) %in% drops)]\n",
    "\n",
    "# Remove highly correlated features\n",
    "correlationMatrix <- cor(datOdor)\n",
    "highlyCorrelated <- findCorrelation(correlationMatrix, cutoff=0.8)\n",
    "datOdor <- datOdor[, -highlyCorrelated]\n",
    "datOdor <- as.data.frame(cbind(CID, datOdor))\n",
    "\n",
    "cat(ncol(datOdor), \"features remained:\")\n",
    "datOdor"
   ]
  },
  {
   "cell_type": "markdown",
   "metadata": {},
   "source": [
    "### 1.3 Merge OR and odorant data into OR-odorant pairs  \n",
    "For each odorant, merge it with all the ORs that have been tested on it *in vitro*, then label each pair with **positive** or **negative**."
   ]
  },
  {
   "cell_type": "code",
   "execution_count": 10,
   "metadata": {},
   "outputs": [
    {
     "name": "stdout",
     "output_type": "stream",
     "text": [
      "The final training set contains 1080 OR-odorant pairs:"
     ]
    },
    {
     "data": {
      "text/plain": [
       "\n",
       "positive negative \n",
       "     194      886 "
      ]
     },
     "metadata": {},
     "output_type": "display_data"
    }
   ],
   "source": [
    "allPairs <- read.csv(\"Response_to_odorants/Data/TrainingSet_OR-odorant_pairs/OR-odorant_pairs.csv\",\n",
    "                     stringsAsFactors = FALSE)\n",
    "\n",
    "datPos <- data.frame()\n",
    "datNeg <- data.frame()\n",
    "\n",
    "for (cid in trainCIDs){\n",
    "    # merge responsive pairs\n",
    "    pos <- allPairs$Gene[allPairs$CID == cid & allPairs$Responsive == 1]\n",
    "    if (length(pos) > 0 & sum(rownames(datTrainOR) %in% pos) >0 ){\n",
    "        datP <- merge(datTrainOR[rownames(datTrainOR) %in% pos, ], datOdor[datOdor$CID == cid, -1])\n",
    "        rownames(datP) <- paste(rownames(datTrainOR)[rownames(datTrainOR) %in% pos], cid, sep = \"_\")\n",
    "        datPos <- rbind(datPos, datP)\n",
    "    }\n",
    "    \n",
    "    # merge non-responsive pairs\n",
    "    neg <- allPairs$Gene[allPairs$CID == cid & allPairs$Responsive == 0]\n",
    "    if (length(neg) > 0 & sum(rownames(datTrainOR) %in% neg) >0 ){\n",
    "        datN <- merge(datTrainOR[rownames(datTrainOR) %in% neg, ], datOdor[datOdor$CID == cid, -1])\n",
    "        rownames(datN) <- paste(rownames(datTrainOR)[rownames(datTrainOR) %in% neg], cid, sep = \"_\")\n",
    "        datNeg <- rbind(datNeg, datN)\n",
    "    }\n",
    "}\n",
    "\n",
    "# Add a column of class labels\n",
    "datPos$Label <- \"positive\"\n",
    "datNeg$Label <- \"negative\"\n",
    "\n",
    "data <- rbind(datPos, datNeg)\n",
    "data$Label <- factor(data$Label, levels = c(\"positive\", \"negative\"))\n",
    "\n",
    "cat(\"The final training set contains\", nrow(data), \"OR-odorant pairs:\")\n",
    "table(data$Label)"
   ]
  },
  {
   "cell_type": "markdown",
   "metadata": {},
   "source": [
    "## 2. Model training  \n",
    "Train 5 independent models, starting from 5 heuristic subsets of residues in the OR sequences:\n",
    "- ***poc17***, 17 residues outlining the odorant-binding pocket\n",
    "- ***poc20***, 20 residues outlining the odorant-binding pocket (*poc17* + 3 peripheral residues)\n",
    "- ***poc27***, *poc20* + 7 more peripheral residues\n",
    "- ***poc60***, 60 residues in an extended pocket region\n",
    "- ***TM191***, 191 residues in the transmembrane (TM) domain\n",
    "\n",
    "As control, a non-predictive model will be built with pseudo-sequences of 60 random residues."
   ]
  },
  {
   "cell_type": "code",
   "execution_count": 11,
   "metadata": {},
   "outputs": [],
   "source": [
    "subsets <- c('poc17', 'poc20', 'poc27', 'poc60', 'TM191', 'random')\n",
    "\n",
    "# Ballesteros-Weinstein numbers of 5 heuristic subsets of residues\n",
    "poc17 <- c(2.53,  # TM2\n",
    "           3.29, 3.30, 3.32, 3.33, 3.36, 3.37, 3.38, # TM3\n",
    "           5.42, 5.43, 5.46, 5.47, # TM5\n",
    "           6.48, 6.51, 6.52, 6.55, #TM6\n",
    "           7.42) # TM7\n",
    "\n",
    "poc20 <- c(2.53, 2.54, # TM2\n",
    "           3.29, 3.30, 3.32, 3.33, 3.36, 3.37, 3.38, # TM3\n",
    "           5.38, 5.39, 5.42, 5.43, 5.46, 5.47, # TM5\n",
    "           6.48, 6.51, 6.52, 6.55, #TM6\n",
    "           7.42) # TM7\n",
    "\n",
    "poc27 <- c(2.53, 2.54, # TM2\n",
    "           3.29, 3.30, 3.31, 3.32, 3.33, 3.36, 3.37, 3.38, 3.40, 3.41, # TM3\n",
    "           4.56, # TM4\n",
    "           5.37, 5.38, 5.39, 5.42, 5.43, 5.46, 5.47, # TM5\n",
    "           6.44, 6.48, 6.51, 6.52, 6.55, #TM6\n",
    "           7.38, 7.42) # TM7\n",
    "\n",
    "poc60 <- c(2.53,2.54, 2.57, 2.61, # TM2\n",
    "           seq(3.25, 3.41, 0.01), # TM3\n",
    "           4.52, 4.53, 4.56, 4.57, 4.60, # TM4\n",
    "           seq(5.35, 5.51, 0.01), # TM5\n",
    "           6.44, 6.45, seq(6.47, 6.56, 0.01), # TM6\n",
    "           7.35, 7.38, 7.39, 7.41, 7.42) # TM7\n",
    "\n",
    "TM191 <- c(seq(1.32, 1.65, 0.01), # TM1\n",
    "           seq(2.39, 2.67, 0.01), # TM2\n",
    "           seq(3.25, 3.55, 0.01), # TM3\n",
    "           seq(4.40, 4.61, 0.01), # TM4\n",
    "           seq(5.37, 5.65, 0.01), # TM5\n",
    "           seq(6.32, 6.56, 0.01), # TM6\n",
    "           seq(7.35, 7.55, 0.01)) # TM7\n",
    "\n",
    "# for the non-predictive control model\n",
    "random <- sample(TM191, 60)"
   ]
  },
  {
   "cell_type": "markdown",
   "metadata": {},
   "source": [
    "### 2.1 5-fold cross validation  \n",
    "**Note:** The validation set contains only the 4 odorants of interest and not their analogs. The final model will serve the 4 odorants and should not be evaluated on the analogs. The analogs are included to enhance the model training and and should remain in the training set. "
   ]
  },
  {
   "cell_type": "code",
   "execution_count": 12,
   "metadata": {},
   "outputs": [],
   "source": [
    "# Index the pairs containing the 4 odorants of interest\n",
    "val_idx <- unlist(lapply(paste0(\"_\", testCIDs), function(x) grep(x, rownames(data))))\n",
    "valPairs <- rownames(data)[val_idx]\n",
    "                         \n",
    "# Stratify into 5 folds (as validation sets) for cross validation\n",
    "folds <- createFolds(data[val_idx, ]$Label, 5, list = TRUE)"
   ]
  },
  {
   "cell_type": "code",
   "execution_count": 13,
   "metadata": {},
   "outputs": [],
   "source": [
    "# Function to extract metrics from a confusion matrix\n",
    "getMetrics <- function(prediction, reference, positive){\n",
    "    # confusion matix\n",
    "    p <- confusionMatrix(prediction, reference, positive = positive)\n",
    "    \n",
    "    TP <- p$table[1]\n",
    "    TN <- p$table[4]\n",
    "    FP <- p$table[3]\n",
    "    FN <- p$table[2]\n",
    "\n",
    "    # Matthews correlation coefficient (MCC)\n",
    "    mcc_num <- (TP*TN - FP*FN)\n",
    "    mcc_den <- as.double((TP+FP))*as.double((TP+FN))*as.double((TN+FP))*as.double((TN+FN))\n",
    "    MCC <- mcc_num/sqrt(mcc_den)\n",
    "    \n",
    "    metrics=c(round(c(MCC, p$byClass[c(5,6,7,2)]), 2), TP, TN, FP, FN)\n",
    "    names(metrics)=c(\"MCC\", \"Precision\", \"Recall\", \"F1\", \"Specificity\", \"TP\", \"TN\", \"FP\", \"FN\")\n",
    "    return(metrics)\n",
    "}"
   ]
  },
  {
   "cell_type": "code",
   "execution_count": null,
   "metadata": {},
   "outputs": [],
   "source": [
    "# Train 6 models with the 6 residue subsets\n",
    "for (subset in subsets){\n",
    "    \n",
    "    # Extract the data columns belonging to the residue subset, as well as the odorant columns and the response label \n",
    "    ResCols <- paste0(\"Res\", as.vector(outer(get(subset), c(\"Comp\", \"Polar\", \"Vol\"), paste0)))\n",
    "    datTrain <- data[, names(data) %in% c(ResCols, names(datOdor), \"Label\")]\n",
    "    \n",
    "    # for the control model, generate pseudo-sequences by randomizing the residues and the responses to the odorants\n",
    "    if (subset == \"random\"){\n",
    "        pseudoSeq <- data[, names(data) %in% ResCols]\n",
    "        pseudoSeq <- pseudoSeq[sample(nrow(pseudoSeq)), sample(ncol(pseudoSeq))]\n",
    "        datTrain <- cbind(pseudoSeq, data[, names(data) %in% c(names(datOdor), \"Label\")])\n",
    "    } \n",
    "    \n",
    "    # An empty matrix to summarize the metrics of model performance\n",
    "    metrics <- c(\"MCC\", \"Precision\", \"Recall\", \"F1\", \"Specificity\", \"AUC\", \"TP\", \"TN\", \"FP\", \"FN\")\n",
    "    perfSum <- matrix(nrow = 5, ncol = length(metrics))\n",
    "    colnames(perfSum) <- metrics\n",
    "    rownames(perfSum) <- paste(\"Fold\", 1:5, sep=\"_\")\n",
    "    \n",
    "    # 5-fold cross validation\n",
    "    for (i in 1:5){\n",
    "        # Split training & validation sets\n",
    "        valSet <- datTrain[rownames(datTrain) %in% valPairs[unlist(folds[i])], ]\n",
    "        trainingSet <- datTrain[! rownames(datTrain) %in% valPairs[unlist(folds[i])], ]\n",
    "        \n",
    "        # Center & scale data\n",
    "        preProc <- preProcess(trainingSet, method = c(\"center\", \"scale\"))\n",
    "        trainingProc <- predict(preProc, trainingSet)\n",
    "        valProc <- predict(preProc, valSet)\n",
    "        \n",
    "        # Parameter tuning using nested 5-fold cross validation\n",
    "        control <- trainControl(classProbs = TRUE, \n",
    "                            method = \"cv\", \n",
    "                            number = 5,\n",
    "                            summaryFunction = prSummary)\n",
    "        grid <- expand.grid(.mtry = seq(ncol(trainingProc)/2, ncol(trainingProc)-1, length.out= 5)) \n",
    "        \n",
    "        # Train a random forest model with the tuned parameters\n",
    "        mod_RF <- train(data = trainingProc, Label ~ . , \n",
    "                        method=\"rf\", ntree = 1001,\n",
    "                        metric=\"Precision\",\n",
    "                        tuneGrid = grid,\n",
    "                        trControl=control)\n",
    "        \n",
    "        # Use the model to predicte the response probability of the OR-odorant pairs in the validation set\n",
    "        probability <- predict(mod_RF, valProc, type = \"prob\")\n",
    "        \n",
    "        # Classifiy probability > 0.5 as \"positive\", equivalent to predict(mod_fit, newdata = valProc)\n",
    "        predClass <- factor(ifelse(probability$positive > 0.5, \"positive\", \"negative\"),\n",
    "                              levels = c(\"positive\", \"negative\"))\n",
    "        \n",
    "        #Calculate the AUC value\n",
    "        predRoc <- prediction(probability$positive, valSet$Label)\n",
    "        perf_AUC <-performance(predRoc,\"auc\") \n",
    "        auroc <- round(perf_AUC@y.values[[1]], 2)\n",
    "        \n",
    "        # Summarize the model performance on the validation set\n",
    "        met <- getMetrics(predClass, valSet$Label, positive = \"positive\")\n",
    "        perfSum[i,] <- c(met[1:5], auroc, met[6:9])\n",
    "        names(perfSum)[6] <- 'AUC'\n",
    "    }\n",
    "    \n",
    "    # Mean, SD & SEM of the performance summary\n",
    "    perfSum <- rbind(perfSum, Mean = round(colMeans(perfSum), 2), SD =round(apply(perfSum, 2, sd), 2))\n",
    "    perfSum <- rbind(perfSum, SEM =round(perfSum[\"SD\", ]/sqrt(5), 2))\n",
    "    cat(\"\\nPerformance summary of model\", subset, \"\\n\")\n",
    "    print(perfSum)\n",
    "    \n",
    "    # Output  to file\n",
    "    write.table(perfSum, paste0(\"Response_to_odorants/Cross_validation/\", subset, \".tsv\"), sep = \"\\t\", quote = FALSE)\n",
    "}"
   ]
  },
  {
   "cell_type": "markdown",
   "metadata": {},
   "source": [
    "### Baseline: machine learning *vs* statistics\n",
    "How good are the machine learning models, really? How much can we get simply from statistical inferences?\n",
    "Assuming (naively) that the probability for an OR-odorant pair to be responsive is the average of the OR's responsiveness to the other odorants and the odorant's responsiveness to the other ORs. That is to say, that promiscuous ORs and odorants have high probabilities to response to one another. This probability draws a baseline to evaluate the performance of the above `Random Forest` models."
   ]
  },
  {
   "cell_type": "code",
   "execution_count": 14,
   "metadata": {},
   "outputs": [
    {
     "name": "stdout",
     "output_type": "stream",
     "text": [
      "First rows of the baseline:"
     ]
    },
    {
     "data": {
      "text/html": [
       "<table class=\"dataframe\">\n",
       "<caption>A data.frame: 6 × 4</caption>\n",
       "<thead>\n",
       "\t<tr><th></th><th scope=col>OR</th><th scope=col>odorant</th><th scope=col>resp_pair</th><th scope=col>stat_prob</th></tr>\n",
       "\t<tr><th></th><th scope=col>&lt;fct&gt;</th><th scope=col>&lt;fct&gt;</th><th scope=col>&lt;dbl&gt;</th><th scope=col>&lt;dbl&gt;</th></tr>\n",
       "</thead>\n",
       "<tbody>\n",
       "\t<tr><th scope=row>hOR10A6_179</th><td>hOR10A6                 </td><td>179</td><td>0.007782101</td><td>0.01</td></tr>\n",
       "\t<tr><th scope=row>hOR10A6_L287P_179</th><td>hOR10A6_L287P           </td><td>179</td><td>0.003891051</td><td>0.00</td></tr>\n",
       "\t<tr><th scope=row>hOR10A6_V140P_L287P_179</th><td>hOR10A6_V140P_L287P     </td><td>179</td><td>0.003891051</td><td>0.00</td></tr>\n",
       "\t<tr><th scope=row>hOR10C1_F60L_P174Q_M246V_179</th><td>hOR10C1_F60L_P174Q_M246V</td><td>179</td><td>0.003891051</td><td>0.00</td></tr>\n",
       "\t<tr><th scope=row>hOR10G3_179</th><td>hOR10G3                 </td><td>179</td><td>0.007782101</td><td>0.01</td></tr>\n",
       "\t<tr><th scope=row>hOR10G3_S73G_179</th><td>hOR10G3_S73G            </td><td>179</td><td>0.015564202</td><td>0.04</td></tr>\n",
       "</tbody>\n",
       "</table>\n"
      ],
      "text/latex": [
       "A data.frame: 6 × 4\n",
       "\\begin{tabular}{r|llll}\n",
       "  & OR & odorant & resp\\_pair & stat\\_prob\\\\\n",
       "  & <fct> & <fct> & <dbl> & <dbl>\\\\\n",
       "\\hline\n",
       "\thOR10A6\\_179 & hOR10A6                  & 179 & 0.007782101 & 0.01\\\\\n",
       "\thOR10A6\\_L287P\\_179 & hOR10A6\\_L287P            & 179 & 0.003891051 & 0.00\\\\\n",
       "\thOR10A6\\_V140P\\_L287P\\_179 & hOR10A6\\_V140P\\_L287P      & 179 & 0.003891051 & 0.00\\\\\n",
       "\thOR10C1\\_F60L\\_P174Q\\_M246V\\_179 & hOR10C1\\_F60L\\_P174Q\\_M246V & 179 & 0.003891051 & 0.00\\\\\n",
       "\thOR10G3\\_179 & hOR10G3                  & 179 & 0.007782101 & 0.01\\\\\n",
       "\thOR10G3\\_S73G\\_179 & hOR10G3\\_S73G             & 179 & 0.015564202 & 0.04\\\\\n",
       "\\end{tabular}\n"
      ],
      "text/markdown": [
       "\n",
       "A data.frame: 6 × 4\n",
       "\n",
       "| <!--/--> | OR &lt;fct&gt; | odorant &lt;fct&gt; | resp_pair &lt;dbl&gt; | stat_prob &lt;dbl&gt; |\n",
       "|---|---|---|---|---|\n",
       "| hOR10A6_179 | hOR10A6                  | 179 | 0.007782101 | 0.01 |\n",
       "| hOR10A6_L287P_179 | hOR10A6_L287P            | 179 | 0.003891051 | 0.00 |\n",
       "| hOR10A6_V140P_L287P_179 | hOR10A6_V140P_L287P      | 179 | 0.003891051 | 0.00 |\n",
       "| hOR10C1_F60L_P174Q_M246V_179 | hOR10C1_F60L_P174Q_M246V | 179 | 0.003891051 | 0.00 |\n",
       "| hOR10G3_179 | hOR10G3                  | 179 | 0.007782101 | 0.01 |\n",
       "| hOR10G3_S73G_179 | hOR10G3_S73G             | 179 | 0.015564202 | 0.04 |\n",
       "\n"
      ],
      "text/plain": [
       "                             OR                       odorant resp_pair  \n",
       "hOR10A6_179                  hOR10A6                  179     0.007782101\n",
       "hOR10A6_L287P_179            hOR10A6_L287P            179     0.003891051\n",
       "hOR10A6_V140P_L287P_179      hOR10A6_V140P_L287P      179     0.003891051\n",
       "hOR10C1_F60L_P174Q_M246V_179 hOR10C1_F60L_P174Q_M246V 179     0.003891051\n",
       "hOR10G3_179                  hOR10G3                  179     0.007782101\n",
       "hOR10G3_S73G_179             hOR10G3_S73G             179     0.015564202\n",
       "                             stat_prob\n",
       "hOR10A6_179                  0.01     \n",
       "hOR10A6_L287P_179            0.00     \n",
       "hOR10A6_V140P_L287P_179      0.00     \n",
       "hOR10C1_F60L_P174Q_M246V_179 0.00     \n",
       "hOR10G3_179                  0.01     \n",
       "hOR10G3_S73G_179             0.04     "
      ]
     },
     "metadata": {},
     "output_type": "display_data"
    },
    {
     "name": "stdout",
     "output_type": "stream",
     "text": [
      "..."
     ]
    }
   ],
   "source": [
    "# Responsiveness of each OR in the training set\n",
    "resp_OR <- table(allPairs$Gene[allPairs$Responsive==1])/length(unique(allPairs$CID))\n",
    "# Responsiveness of each odorant in the training set\n",
    "resp_odor <- table(allPairs$CID[allPairs$Responsive==1])/length(unique(allPairs$Gene))\n",
    "# Average the responsiveness of each OR-odorant pair\n",
    "combi <- merge(names(resp_OR), names(resp_odor))\n",
    "names(combi) <- c(\"OR\", \"odorant\")\n",
    "for (i in 1:nrow(combi)){\n",
    "    combi$resp_pair[i] <- mean(resp_OR[names(resp_OR) == combi$OR[i]], resp_odor[names(resp_odor) == combi$odorant[i]])\n",
    "}\n",
    "\n",
    "# Normalize to obtain statistical probabilities\n",
    "norm01 <- function(x){(x-min(x))/(max(x)-min(x))} # a normalization function \n",
    "combi$stat_prob <- round(norm01(combi$resp_pair), 2)\n",
    "rownames(combi) <- paste(combi$OR, combi$odorant, sep = '_')\n",
    "cat(\"First rows of the baseline:\")\n",
    "head(combi)\n",
    "cat(\"...\")"
   ]
  },
  {
   "cell_type": "code",
   "execution_count": 16,
   "metadata": {},
   "outputs": [
    {
     "name": "stdout",
     "output_type": "stream",
     "text": [
      "        MCC Precision Recall   F1 Specificity  AUC   TP TN FP    FN\n",
      "Fold_1 0.24      1.00   0.07 0.14           1 0.64 2.00 80  0 25.00\n",
      "Fold_2 0.16      1.00   0.04 0.07           1 0.68 1.00 80  0 27.00\n",
      "Fold_3 0.00      0.00   0.00 0.00           1 0.59 0.00 80  0 28.00\n",
      "Fold_4 0.16      1.00   0.04 0.07           1 0.78 1.00 80  0 27.00\n",
      "Fold_5 0.29      1.00   0.11 0.20           1 0.71 3.00 80  0 24.00\n",
      "Mean   0.17      0.80   0.05 0.10           1 0.68 1.40 80  0 26.20\n",
      "SD     0.11      0.45   0.04 0.08           0 0.07 1.14  0  0  1.64\n",
      "SEM    0.05      0.20   0.02 0.04           0 0.03 0.51  0  0  0.73\n"
     ]
    }
   ],
   "source": [
    "# Predictivity of the naive baseline model during 5-fold cross validation\n",
    "metrics <- c(\"MCC\", \"Precision\", \"Recall\", \"F1\", \"Specificity\", \"AUC\", \"TP\", \"TN\", \"FP\", \"FN\")\n",
    "perfSum <- matrix(nrow = 5, ncol = length(metrics))\n",
    "colnames(perfSum) <- metrics\n",
    "rownames(perfSum) <- paste(\"Fold\", 1:5, sep=\"_\")\n",
    "\n",
    "# 5-fold cross validation\n",
    "for (i in 1:5){\n",
    "    # Split training & validation sets\n",
    "    valSet <- data[rownames(data) %in% valPairs[unlist(folds[i])], ]\n",
    "    # Baseline probabilities\n",
    "    probability <- combi$stat_prob[match(rownames(valSet), rownames(combi))]\n",
    "    probability[is.na(probability)] <- 0\n",
    "    # Classifiy probability > 0.5 as \"positive\", equivalent to predict(mod_fit, newdata = valProc)\n",
    "    predClass <- factor(ifelse(probability > 0.5, \"positive\", \"negative\"),\n",
    "                        levels = c(\"positive\", \"negative\"))\n",
    "    # Calculate the AUC value\n",
    "    predRoc <- prediction(probability, valSet$Label)\n",
    "    perf_AUC <-performance(predRoc,\"auc\")\n",
    "    auroc <- round(perf_AUC@y.values[[1]], 2)\n",
    "    \n",
    "    # Summarize the model performance on the validation set\n",
    "    met <- getMetrics(predClass, valSet$Label, positive = \"positive\")\n",
    "    perfSum[i,] <- c(met[1:5], auroc, met[6:9])\n",
    "    names(perfSum)[6] <- 'AUC'\n",
    "}\n",
    "\n",
    "# Mean, SD & SEM of the performance summary\n",
    "perfSum[is.na(perfSum)] <- 0\n",
    "perfSum <- rbind(perfSum, Mean = round(colMeans(perfSum), 2), SD =round(apply(perfSum, 2, sd), 2))\n",
    "perfSum <- rbind(perfSum, SEM =round(perfSum[\"SD\", ]/sqrt(5), 2))\n",
    "cat(\"\\nPerformance summary of the naive baseline model\\n\")\n",
    "print(perfSum)\n",
    "    \n",
    "# Output  to file\n",
    "write.table(perfSum, paste0(\"Response_to_odorants/Cross_validation/naive.tsv\"), sep = \"\\t\", quote = FALSE)"
   ]
  },
  {
   "cell_type": "markdown",
   "metadata": {},
   "source": [
    "## 2.2 Visualize model performance\n",
    "### Compare the performance of the 5 models with the non-predictive control model (*random*).  \n",
    "We use [Matthews correlation coefficient (MCC)](https://en.wikipedia.org/wiki/Matthews_correlation_coefficient) as the main metric of performance, because of the strong **data imbalance** (which reflects the naturally disproportionate ratio of responsive : non-responsive ORs for a given odorant).  \n",
    "We are also interested in `precision`, which equals the `hit rate` when using the model for virtual screening."
   ]
  },
  {
   "cell_type": "code",
   "execution_count": 17,
   "metadata": {
    "scrolled": true
   },
   "outputs": [
    {
     "name": "stderr",
     "output_type": "stream",
     "text": [
      "Warning message:\n",
      "“`fun.y` is deprecated. Use `fun` instead.”\n",
      "Warning message:\n",
      "“`fun.ymin` is deprecated. Use `fun.min` instead.”\n",
      "Warning message:\n",
      "“`fun.ymax` is deprecated. Use `fun.max` instead.”\n"
     ]
    },
    {
     "data": {
      "image/png": "[encoded data removed]",
      "text/plain": [
       "plot without title"
      ]
     },
     "metadata": {
      "image/png": {
       "height": 420,
       "width": 420
      }
     },
     "output_type": "display_data"
    }
   ],
   "source": [
    "metrics <- c(\"MCC\", \"Precision\")\n",
    "models <- c(subsets, \"naive\")\n",
    "# Summarize the performance of all the models in a data frame\n",
    "dat <- data.frame()\n",
    "for (i in 1:length(models)){\n",
    "    perf <- read.table(paste0(\"Response_to_odorants/Cross_validation/\", models[i], \".tsv\"),\n",
    "                       sep = \"\\t\", row.names = 1)\n",
    "    perf <- subset(perf[1:5, ], select = metrics)\n",
    "    dat <- rbind(dat, merge(models[i], perf))\n",
    "}\n",
    "names(dat) <- c(\"Model\", metrics)\n",
    "\n",
    "col_palette <- c('orange', 'cyan3', 'purple4', 'red', 'gray30', 'gray60', 'black')\n",
    "\n",
    "# Plot the MCC\n",
    "ggerrorplot(dat, x = \"Model\", y = \"MCC\", color = \"Model\", palette = col_palette,\n",
    "            add = \"mean\", add.params = list(size = 0.5),\n",
    "            error.plot = \"errorbar\", width = 0.2, legend = \"none\") + \n",
    "coord_cartesian(ylim = c(-0.05, 0.8)) + rotate_x_text(45) +\n",
    "stat_compare_means(label = \"p.signif\", label.y = 0.75, method = \"t.test\", ref.group = \"random\")"
   ]
  },
  {
   "cell_type": "markdown",
   "metadata": {},
   "source": [
    "### Evaluation:  \n",
    "All the 5 models performed significantly better than the control (*random*).  \n",
    "However, the differences among the 5 models are not statistically significant.  \n",
    "We choose the model ***poc60***, which is a good compromise between performance and speed.\n",
    "\n",
    "*Note:* The data contain 26% responsive (positive) OR-odorant pairs. Therefore, the ~26% `hit rate` of the control model is equivalent to a random prediction.  \n",
    "\n",
    "## 3. Prediction of new ORs  \n",
    "- Rebuild the best model above (***poc60***), with all the training data (without splitting into training & validation sets).  \n",
    "- Use the model to predict the response probabilities of 416 query ORs paired with the 4 odorants (416 $\\times$ 4 = 1664 pairs).  \n",
    "- Repeat the prediction 3 times and rank the pairs by the average response probability.  "
   ]
  },
  {
   "cell_type": "code",
   "execution_count": 32,
   "metadata": {},
   "outputs": [],
   "source": [
    "# Extract the training data columns belonging to poc60, as well as the odorant columns and the response label \n",
    "subset <- \"poc60\"\n",
    "ResCols <- paste0(\"Res\", as.vector(outer(get(subset), c(\"Comp\", \"Polar\", \"Vol\"), paste0)))\n",
    "datTrain <- data[, names(data) %in% c(ResCols, names(datOdor), \"Label\")]\n",
    "\n",
    "# Generate the test set of OR-odorant pairs in the same format\n",
    "queryORs <- readLines(\"Response_to_odorants/Data/Query_ORs.txt\")\n",
    "queryORs <- datOR[rownames(datOR) %in% queryORs, ]\n",
    "\n",
    "testData <- data.frame()\n",
    "for (cid in testCIDs){\n",
    "  test <- merge(queryORs, datOdor[datOdor$CID == cid, -1])\n",
    "  rownames(test) <- paste(rownames(queryORs), cid, sep = \"_\")\n",
    "  testData <- rbind(testData, test)\n",
    "}\n",
    "testSet <- testData[, colnames(testData) %in% colnames(datTrain)]\n",
    "\n",
    "# Center & scale data\n",
    "preProc <- preProcess(datTrain, method = c(\"center\", \"scale\"))\n",
    "trainingProc <- predict(preProc, datTrain)\n",
    "testProc <- predict(preProc, testSet)\n",
    "\n",
    "# An empty data frame to store the prediction\n",
    "prediction <- as.data.frame(matrix(nrow = nrow(testProc)), ncol=3)\n",
    "rownames(prediction) <- rownames(testProc)\n",
    "\n",
    "# Parameter tuning using nested 5-fold cross validation\n",
    "control <- trainControl(classProbs = TRUE, \n",
    "                        method = \"cv\", \n",
    "                        number = 5,\n",
    "                        summaryFunction = prSummary)\n",
    "\n",
    "# Repeat 3 times the training - prediction process\n",
    "for (i in 1:3){\n",
    "    # Model training using the same parameter tuning procedure as above\n",
    "    grid <- expand.grid(.mtry = seq(ncol(trainingProc)/2, ncol(trainingProc)-1, length.out= 5))\n",
    "    mod_final <- train(data=trainingProc, Label ~ . ,\n",
    "                       method=\"rf\", ntree = 1001,\n",
    "                       metric=\"Precision\",\n",
    "                       tuneGrid = grid,\n",
    "                       trControl=control)\n",
    "    \n",
    "    # Predict the response probabilities for the test set\n",
    "    probability <- predict(mod_final, newdata = testProc, type = \"prob\")\n",
    "    prediction[, i] <- probability$positive\n",
    "}\n",
    "\n",
    "colnames(prediction) <- paste0('Prediction', 1:3)\n",
    "Mean <- rowMeans(prediction)\n",
    "SD <- apply(prediction, 1, sd)\n",
    "prediction <- cbind(prediction, Mean, SD)\n",
    "prediction <- round(prediction, 2)\n",
    "\n",
    "# Rank by the predicted response probability\n",
    "prediction <- prediction[order(prediction$Mean, decreasing = TRUE), ]\n",
    "\n",
    "# Output to file\n",
    "write.table(prediction, paste0(\"Response_to_odorants/Prediction/\", subset, \".tsv\"), sep = \"\\t\")"
   ]
  },
  {
   "cell_type": "markdown",
   "metadata": {},
   "source": [
    "### List the predicted responsive OR-odorant pairs and the ORs"
   ]
  },
  {
   "cell_type": "code",
   "execution_count": 18,
   "metadata": {},
   "outputs": [
    {
     "name": "stdout",
     "output_type": "stream",
     "text": [
      "Predicted responsive pairs: \n",
      "               Prediction1 Prediction2 Prediction3 Mean   SD\n",
      "Olfr885_7410          0.92        0.93        0.94 0.93 0.01\n",
      "Olfr885_323           0.82        0.84        0.85 0.84 0.01\n",
      "Olfr194_7410          0.84        0.83        0.82 0.83 0.01\n",
      "Olfr205_7410          0.84        0.83        0.83 0.83 0.00\n",
      "hOR8B2_439570         0.83        0.82        0.81 0.82 0.01\n",
      "Olfr160_7410          0.78        0.77        0.82 0.79 0.03\n",
      "Olfr199_7410          0.76        0.81        0.79 0.79 0.03\n",
      "Olfr1057_68110        0.78        0.80        0.79 0.79 0.01\n",
      "Olfr885_68110         0.77        0.80        0.79 0.78 0.02\n",
      "hOR1E3_7410           0.78        0.76        0.77 0.77 0.01\n",
      "Olfr1057_7410         0.77        0.77        0.76 0.77 0.00\n",
      "Olfr147_7410          0.72        0.74        0.75 0.74 0.02\n",
      "Olfr251_7410          0.70        0.74        0.75 0.73 0.03\n",
      "Olfr1057_323          0.74        0.73        0.72 0.73 0.01\n",
      "Olfr747_7410          0.74        0.73        0.70 0.72 0.02\n",
      "Olfr747_323           0.73        0.71        0.73 0.72 0.01\n",
      "hOR8B2_7410           0.69        0.68        0.68 0.68 0.01\n",
      "Olfr913_7410          0.68        0.70        0.66 0.68 0.02\n",
      "Olfr147_439570        0.66        0.66        0.66 0.66 0.00\n",
      "Olfr251_68110         0.62        0.67        0.65 0.65 0.02\n",
      "Olfr147_323           0.62        0.66        0.65 0.64 0.02\n",
      "hOR8B2_323            0.64        0.62        0.62 0.63 0.01\n",
      "Olfr160_68110         0.58        0.62        0.64 0.62 0.03\n",
      "hOR1E3_439570         0.60        0.61        0.62 0.61 0.01\n",
      "Olfr194_439570        0.59        0.61        0.62 0.61 0.02\n",
      "Olfr205_439570        0.58        0.62        0.62 0.61 0.02\n",
      "Olfr1487_7410         0.60        0.62        0.60 0.61 0.01\n",
      "hOR1E3_323            0.60        0.62        0.61 0.61 0.01\n",
      "Olfr913_323           0.58        0.62        0.61 0.60 0.02\n",
      "Olfr199_323           0.57        0.65        0.60 0.60 0.04\n",
      "Olfr147_68110         0.57        0.61        0.61 0.60 0.02\n",
      "Olfr194_323           0.57        0.61        0.60 0.59 0.02\n",
      "Olfr205_323           0.56        0.62        0.60 0.59 0.03\n",
      "hOR8B2_68110          0.59        0.59        0.59 0.59 0.00\n",
      "Olfr251_323           0.55        0.60        0.60 0.58 0.03\n",
      "Olfr199_439570        0.54        0.60        0.58 0.57 0.03\n",
      "Olfr194_68110         0.56        0.56        0.58 0.57 0.01\n",
      "Olfr885_439570        0.54        0.57        0.55 0.55 0.02\n",
      "Olfr908_7410          0.56        0.55        0.53 0.55 0.01\n",
      "Olfr205_68110         0.54        0.56        0.55 0.55 0.01\n",
      "Olfr988_439570        0.54        0.53        0.53 0.54 0.01\n",
      "Olfr141_7410          0.51        0.54        0.55 0.54 0.02\n",
      "Olfr893_7410          0.54        0.55        0.53 0.54 0.01\n",
      "hOR1E3_68110          0.55        0.52        0.56 0.54 0.02\n",
      "Olfr987_439570        0.54        0.53        0.53 0.53 0.01\n",
      "Olfr160_439570        0.51        0.53        0.55 0.53 0.02\n",
      "Olfr1471_7410         0.52        0.53        0.53 0.53 0.01\n",
      "Olfr338_7410          0.53        0.52        0.52 0.52 0.00\n",
      "Olfr160_323           0.50        0.51        0.54 0.52 0.02\n",
      "Olfr199_68110         0.49        0.54        0.52 0.52 0.03\n",
      "\n",
      "Predicted responsive ORs: \n",
      " hOR1E3 hOR8B2 Olfr1057 Olfr141 Olfr147 Olfr1471 Olfr1487 Olfr160 Olfr194 Olfr199 Olfr205 Olfr251 Olfr338 Olfr747 Olfr885 Olfr893 Olfr908 Olfr913 Olfr987 Olfr988"
     ]
    }
   ],
   "source": [
    "# Pairs with response probability > 0.5\n",
    "subset <- \"poc60\"\n",
    "prediction <- read.table(paste0(\"Response_to_odorants/Prediction/\", subset, \".tsv\"), stringsAsFactors = F)\n",
    "topPairs <- prediction[prediction$Mean > 0.5, ]\n",
    "cat(\"Predicted responsive pairs: \\n\")\n",
    "print(topPairs)\n",
    "\n",
    "topORs <- unique(gsub(\"_[0-9].*\", \"\", rownames(topPairs)))\n",
    "cat(\"\\nPredicted responsive ORs: \\n\", sort(topORs))"
   ]
  },
  {
   "cell_type": "markdown",
   "metadata": {},
   "source": [
    "## 4. Evaluate the prediction with *in vitro* data  \n",
    "To evaluate the model performance on both classes (positive and negative), a test set of ORs underwent *in vitro* functional assays with the 4 odorants.  \n",
    "The test set contained:\n",
    "- all the predicted responsive ORs (the positive class),  \n",
    "- randomly picked ORs from the negative class.  "
   ]
  },
  {
   "cell_type": "code",
   "execution_count": 19,
   "metadata": {},
   "outputs": [
    {
     "data": {
      "text/html": [
       "<table class=\"dataframe\">\n",
       "<caption>A data.frame: 6 × 5</caption>\n",
       "<thead>\n",
       "\t<tr><th></th><th scope=col>Prediction1</th><th scope=col>Prediction2</th><th scope=col>Prediction3</th><th scope=col>Mean</th><th scope=col>SD</th></tr>\n",
       "\t<tr><th></th><th scope=col>&lt;dbl&gt;</th><th scope=col>&lt;dbl&gt;</th><th scope=col>&lt;dbl&gt;</th><th scope=col>&lt;dbl&gt;</th><th scope=col>&lt;dbl&gt;</th></tr>\n",
       "</thead>\n",
       "<tbody>\n",
       "\t<tr><th scope=row>Olfr885_7410</th><td>0.92</td><td>0.93</td><td>0.94</td><td>0.93</td><td>0.01</td></tr>\n",
       "\t<tr><th scope=row>Olfr885_323</th><td>0.82</td><td>0.84</td><td>0.85</td><td>0.84</td><td>0.01</td></tr>\n",
       "\t<tr><th scope=row>Olfr194_7410</th><td>0.84</td><td>0.83</td><td>0.82</td><td>0.83</td><td>0.01</td></tr>\n",
       "\t<tr><th scope=row>Olfr205_7410</th><td>0.84</td><td>0.83</td><td>0.83</td><td>0.83</td><td>0.00</td></tr>\n",
       "\t<tr><th scope=row>hOR8B2_439570</th><td>0.83</td><td>0.82</td><td>0.81</td><td>0.82</td><td>0.01</td></tr>\n",
       "\t<tr><th scope=row>Olfr160_7410</th><td>0.78</td><td>0.77</td><td>0.82</td><td>0.79</td><td>0.03</td></tr>\n",
       "</tbody>\n",
       "</table>\n"
      ],
      "text/latex": [
       "A data.frame: 6 × 5\n",
       "\\begin{tabular}{r|lllll}\n",
       "  & Prediction1 & Prediction2 & Prediction3 & Mean & SD\\\\\n",
       "  & <dbl> & <dbl> & <dbl> & <dbl> & <dbl>\\\\\n",
       "\\hline\n",
       "\tOlfr885\\_7410 & 0.92 & 0.93 & 0.94 & 0.93 & 0.01\\\\\n",
       "\tOlfr885\\_323 & 0.82 & 0.84 & 0.85 & 0.84 & 0.01\\\\\n",
       "\tOlfr194\\_7410 & 0.84 & 0.83 & 0.82 & 0.83 & 0.01\\\\\n",
       "\tOlfr205\\_7410 & 0.84 & 0.83 & 0.83 & 0.83 & 0.00\\\\\n",
       "\thOR8B2\\_439570 & 0.83 & 0.82 & 0.81 & 0.82 & 0.01\\\\\n",
       "\tOlfr160\\_7410 & 0.78 & 0.77 & 0.82 & 0.79 & 0.03\\\\\n",
       "\\end{tabular}\n"
      ],
      "text/markdown": [
       "\n",
       "A data.frame: 6 × 5\n",
       "\n",
       "| <!--/--> | Prediction1 &lt;dbl&gt; | Prediction2 &lt;dbl&gt; | Prediction3 &lt;dbl&gt; | Mean &lt;dbl&gt; | SD &lt;dbl&gt; |\n",
       "|---|---|---|---|---|---|\n",
       "| Olfr885_7410 | 0.92 | 0.93 | 0.94 | 0.93 | 0.01 |\n",
       "| Olfr885_323 | 0.82 | 0.84 | 0.85 | 0.84 | 0.01 |\n",
       "| Olfr194_7410 | 0.84 | 0.83 | 0.82 | 0.83 | 0.01 |\n",
       "| Olfr205_7410 | 0.84 | 0.83 | 0.83 | 0.83 | 0.00 |\n",
       "| hOR8B2_439570 | 0.83 | 0.82 | 0.81 | 0.82 | 0.01 |\n",
       "| Olfr160_7410 | 0.78 | 0.77 | 0.82 | 0.79 | 0.03 |\n",
       "\n"
      ],
      "text/plain": [
       "              Prediction1 Prediction2 Prediction3 Mean SD  \n",
       "Olfr885_7410  0.92        0.93        0.94        0.93 0.01\n",
       "Olfr885_323   0.82        0.84        0.85        0.84 0.01\n",
       "Olfr194_7410  0.84        0.83        0.82        0.83 0.01\n",
       "Olfr205_7410  0.84        0.83        0.83        0.83 0.00\n",
       "hOR8B2_439570 0.83        0.82        0.81        0.82 0.01\n",
       "Olfr160_7410  0.78        0.77        0.82        0.79 0.03"
      ]
     },
     "metadata": {},
     "output_type": "display_data"
    },
    {
     "name": "stdout",
     "output_type": "stream",
     "text": [
      "poc60 Model performance on the test set:"
     ]
    },
    {
     "data": {
      "text/html": [
       "<style>\n",
       ".dl-inline {width: auto; margin:0; padding: 0}\n",
       ".dl-inline>dt, .dl-inline>dd {float: none; width: auto; display: inline-block}\n",
       ".dl-inline>dt::after {content: \":\\0020\"; padding-right: .5ex}\n",
       ".dl-inline>dt:not(:first-of-type) {padding-left: .5ex}\n",
       "</style><dl class=dl-inline><dt>MCC</dt><dd>0.44</dd><dt>Precision</dt><dd>0.52</dd><dt>Recall</dt><dd>0.53</dd><dt>F1</dt><dd>0.53</dd><dt>Specificity</dt><dd>0.91</dd><dt>TP</dt><dd>26</dd><dt>TN</dt><dd>247</dd><dt>FP</dt><dd>24</dd><dt>FN</dt><dd>23</dd></dl>\n"
      ],
      "text/latex": [
       "\\begin{description*}\n",
       "\\item[MCC] 0.44\n",
       "\\item[Precision] 0.52\n",
       "\\item[Recall] 0.53\n",
       "\\item[F1] 0.53\n",
       "\\item[Specificity] 0.91\n",
       "\\item[TP] 26\n",
       "\\item[TN] 247\n",
       "\\item[FP] 24\n",
       "\\item[FN] 23\n",
       "\\end{description*}\n"
      ],
      "text/markdown": [
       "MCC\n",
       ":   0.44Precision\n",
       ":   0.52Recall\n",
       ":   0.53F1\n",
       ":   0.53Specificity\n",
       ":   0.91TP\n",
       ":   26TN\n",
       ":   247FP\n",
       ":   24FN\n",
       ":   23\n",
       "\n"
      ],
      "text/plain": [
       "        MCC   Precision      Recall          F1 Specificity          TP \n",
       "       0.44        0.52        0.53        0.53        0.91       26.00 \n",
       "         TN          FP          FN \n",
       "     247.00       24.00       23.00 "
      ]
     },
     "metadata": {},
     "output_type": "display_data"
    },
    {
     "name": "stdout",
     "output_type": "stream",
     "text": [
      "\n",
      "Model performance on R-(-)-Carvone \n",
      "        MCC   Precision      Recall          F1 Specificity         AUC \n",
      "       0.45        0.60        0.46        0.52        0.94        0.72 \n",
      "         TP          TN          FP          FN \n",
      "       6.00       63.00        4.00        7.00 \n",
      "\n",
      "Model performance on acetophenone \n",
      "        MCC   Precision      Recall          F1 Specificity         AUC \n",
      "       0.47        0.39        0.78        0.52        0.85        0.84 \n",
      "         TP          TN          FP          FN \n",
      "       7.00       60.00       11.00        2.00 \n",
      "\n",
      "Model performance on coumarin \n",
      "        MCC   Precision      Recall          F1 Specificity         AUC \n",
      "       0.43        0.58        0.47        0.52        0.92        0.72 \n",
      "         TP          TN          FP          FN \n",
      "       7.00       60.00        5.00        8.00 \n",
      "\n",
      "Model performance on 4-chromanone \n",
      "        MCC   Precision      Recall          F1 Specificity         AUC \n",
      "       0.48        0.60        0.50        0.55        0.94        0.74 \n",
      "         TP          TN          FP          FN \n",
      "       6.00       64.00        4.00        6.00 \n"
     ]
    }
   ],
   "source": [
    "# Read the in vitro response data\n",
    "newPairs <- read.csv(paste0(\"Response_to_odorants/Data/TestSet_OR-odorant_pairs/TestSet_\", subset, \".csv\"),\n",
    "                     stringsAsFactors = FALSE)\n",
    "\n",
    "# Merge OR-odorant pairs\n",
    "pos_pairs <- as.character()\n",
    "neg_pairs <- as.character()\n",
    "for (cid in testCIDs){\n",
    "    # responsive ORs & pairs\n",
    "    pos <- newPairs$Gene[newPairs$CID == cid & newPairs$Responsive == 1]\n",
    "    pos_pairs <- c(pos_pairs, paste0(pos, \"_\", cid))\n",
    "    # non-responsive ORs & pairs\n",
    "    neg <- newPairs$Gene[newPairs$CID == cid & newPairs$Responsive == 0]\n",
    "    neg_pairs <- c(neg_pairs, paste0(neg, \"_\", cid))\n",
    "}\n",
    "in_vitro <- rbind(cbind(pos_pairs, \"positive\"), cbind(neg_pairs, \"negative\"))\n",
    "colnames(in_vitro) = c('Pairs', 'Label')\n",
    "\n",
    "\n",
    "prediction <- read.csv(paste0(\"Response_to_odorants/Prediction/\", subset, \".tsv\"), sep = \"\\t\")\n",
    "head(prediction)\n",
    "# Extract prediction on the pairs tested in vitro\n",
    "testSet <- prediction[in_vitro[, \"Pairs\"], 4:5]\n",
    "testSet$Predicted <- factor(ifelse( testSet$Mean > 0.5 , \"positive\", \"negative\"),\n",
    "                           levels = c(\"positive\", \"negative\"))\n",
    "testSet$in_vitro <- factor(in_vitro[, \"Label\"], levels = c(\"positive\", \"negative\"))\n",
    "\n",
    "# Evaluate the performance on the whole test set\n",
    "perfSum <- getMetrics(testSet$Predicted, testSet$in_vitro, positive = \"positive\")\n",
    "cat(subset, \"Model performance on the test set:\")\n",
    "perfSum\n",
    "\n",
    "# Evaluate the performance for each odorant\n",
    "for (cid in testCIDs){\n",
    "    test <- testSet[grep(paste0(\"_\", cid), rownames(testSet)), ]\n",
    "    perf <- getMetrics(test$Predicted, test$in_vitro, positive = \"positive\")\n",
    "    \n",
    "    # Calculate the AUC value\n",
    "    predRoc=prediction(test$Mean, test$in_vitro)\n",
    "    perf_AUC=performance(predRoc,\"auc\") #Calculate the AUC value\n",
    "    auroc= round(perf_AUC@y.values[[1]], 2)\n",
    "    perf <- c(perf[1:5], auroc, perf[6:9])\n",
    "    names(perf)[6]='AUC'\n",
    "\n",
    "    cat(\"\\nModel performance on\", allOdor$Odorant[match(cid, allOdor$CID)], \"\\n\")\n",
    "    print(perf)\n",
    "}"
   ]
  },
  {
   "cell_type": "code",
   "execution_count": null,
   "metadata": {},
   "outputs": [],
   "source": []
  }
 ],
 "metadata": {
  "kernelspec": {
   "display_name": "R",
   "language": "R",
   "name": "ir"
  },
  "language_info": {
   "codemirror_mode": "r",
   "file_extension": ".r",
   "mimetype": "text/x-r-source",
   "name": "R",
   "pygments_lexer": "r",
   "version": "3.6.3"
  }
 },
 "nbformat": 4,
 "nbformat_minor": 4
}
